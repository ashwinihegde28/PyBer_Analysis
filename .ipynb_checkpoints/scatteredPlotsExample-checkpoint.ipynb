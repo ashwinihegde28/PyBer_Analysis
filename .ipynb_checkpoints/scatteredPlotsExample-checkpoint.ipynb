{
 "cells": [
  {
   "cell_type": "code",
   "execution_count": 2,
   "id": "9612da30",
   "metadata": {},
   "outputs": [],
   "source": [
    "import matplotlib.pyplot as plt"
   ]
  },
  {
   "cell_type": "code",
   "execution_count": 5,
   "id": "e4dda4b2",
   "metadata": {},
   "outputs": [],
   "source": [
    "x=[50,42,39,34,32,48,22,17,18,3,22]\n",
    "y=[17,19,21,22,23,34,31,43,35,43,22]\n"
   ]
  },
  {
   "cell_type": "code",
   "execution_count": 11,
   "id": "0a032b53",
   "metadata": {},
   "outputs": [
    {
     "data": {
      "image/png": "[encoded data removed]",
      "text/plain": [
       "<Figure size 432x288 with 1 Axes>"
      ]
     },
     "metadata": {
      "needs_background": "light"
     },
     "output_type": "display_data"
    }
   ],
   "source": [
    "plt.scatter(x,y,c=\"green\",marker=\"x\",s=x)\n",
    "\n",
    "plt.xlabel(\"Total no of rides\")\n",
    "plt.ylabel(\"Avg Fare ($)\")\n",
    "plt.title(\"Avg Fare v/s Total rides\")\n",
    "\n",
    "plt.show()"
   ]
  },
  {
   "cell_type": "code",
   "execution_count": null,
   "id": "7135735f",
   "metadata": {},
   "outputs": [],
   "source": []
  }
 ],
 "metadata": {
  "kernelspec": {
   "display_name": "PythonData",
   "language": "python",
   "name": "pythondata"
  },
  "language_info": {
   "codemirror_mode": {
    "name": "ipython",
    "version": 3
   },
   "file_extension": ".py",
   "mimetype": "text/x-python",
   "name": "python",
   "nbconvert_exporter": "python",
   "pygments_lexer": "ipython3",
   "version": "3.7.11"
  }
 },
 "nbformat": 4,
 "nbformat_minor": 5
}
